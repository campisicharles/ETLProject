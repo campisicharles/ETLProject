{
 "cells": [
  {
   "cell_type": "code",
   "execution_count": 2,
   "metadata": {},
   "outputs": [],
   "source": [
    "# Dependencies\n",
    "import numpy as np\n",
    "import pandas as pd\n",
    "import matplotlib.pyplot as plt\n",
    "import requests\n",
    "from census import Census\n",
    "\n",
    "# Census API Key\n",
    "from config import api_key\n",
    "c = Census(api_key, year=2017)"
   ]
  },
  {
   "cell_type": "code",
   "execution_count": 3,
   "metadata": {},
   "outputs": [
    {
     "name": "stdout",
     "output_type": "stream",
     "text": [
      "1\n"
     ]
    },
    {
     "data": {
      "text/html": [
       "<div>\n",
       "<style scoped>\n",
       "    .dataframe tbody tr th:only-of-type {\n",
       "        vertical-align: middle;\n",
       "    }\n",
       "\n",
       "    .dataframe tbody tr th {\n",
       "        vertical-align: top;\n",
       "    }\n",
       "\n",
       "    .dataframe thead th {\n",
       "        text-align: right;\n",
       "    }\n",
       "</style>\n",
       "<table border=\"1\" class=\"dataframe\">\n",
       "  <thead>\n",
       "    <tr style=\"text-align: right;\">\n",
       "      <th></th>\n",
       "      <th>NATIVITY AND CITIZENSHIP STATUS IN THE UNITED STATES</th>\n",
       "      <th>HOUSEHOLD INCOME IN THE PAST 12 MONTHS IN 2017 INFLATION-ADJUSTED DOLLARS</th>\n",
       "      <th>POVERTY STATUS IN THE PAST 12 MONTHS BY SEX BY AGE</th>\n",
       "      <th>SEX BY OCCUPATION FOR THE CIVILIAN EMPLOYED POPULATION 16 YEARS AND OVER</th>\n",
       "      <th>VALUE OF HOME</th>\n",
       "      <th>TENURE BY VEHICLES AVAILABLE</th>\n",
       "      <th>YEAR STRUCTURE BUILT</th>\n",
       "    </tr>\n",
       "  </thead>\n",
       "  <tbody>\n",
       "    <tr>\n",
       "      <th>0</th>\n",
       "      <td>11609756.0</td>\n",
       "      <td>4633145.0</td>\n",
       "      <td>11289161.0</td>\n",
       "      <td>5488180.0</td>\n",
       "      <td>64888.0</td>\n",
       "      <td>4633145.0</td>\n",
       "      <td>5174838.0</td>\n",
       "    </tr>\n",
       "  </tbody>\n",
       "</table>\n",
       "</div>"
      ],
      "text/plain": [
       "   NATIVITY AND CITIZENSHIP STATUS IN THE UNITED STATES  \\\n",
       "0                                         11609756.0      \n",
       "\n",
       "   HOUSEHOLD INCOME IN THE PAST 12 MONTHS IN 2017 INFLATION-ADJUSTED DOLLARS  \\\n",
       "0                                          4633145.0                           \n",
       "\n",
       "   POVERTY STATUS IN THE PAST 12 MONTHS BY SEX BY AGE  \\\n",
       "0                                         11289161.0    \n",
       "\n",
       "   SEX BY OCCUPATION FOR THE CIVILIAN EMPLOYED POPULATION 16 YEARS AND OVER  \\\n",
       "0                                          5488180.0                          \n",
       "\n",
       "   VALUE OF HOME  TENURE BY VEHICLES AVAILABLE  YEAR STRUCTURE BUILT  \n",
       "0        64888.0                     4633145.0             5174838.0  "
      ]
     },
     "execution_count": 3,
     "metadata": {},
     "output_type": "execute_result"
    }
   ],
   "source": [
    "# Run Census Search to retrieve data on all zip codes (2013 ACS5 Census)\n",
    "# See: https://github.com/CommerceDataService/census-wrapper for library documentation\n",
    "# See: https://gist.github.com/afhaque/60558290d6efd892351c4b64e5c01e9b for labels\n",
    "census_data = c.acs5.get((\"NAME\", \"B05001_001E\", \"B19001_001E\", \"B17001_001E\",\n",
    "                          \"C24010_001E\",\n",
    "                          \"B25075_002E\", \"B25034_001E\", \"B25044_001E\"),{'for': 'state:39'})\n",
    "\n",
    "# Convert to DataFrame\n",
    "census_pd = pd.DataFrame(census_data)\n",
    "\n",
    "# Column Reordering\n",
    "census_pd = census_pd.rename(columns={\"B05001_001E\": \"NATIVITY AND CITIZENSHIP STATUS IN THE UNITED STATES\",\n",
    "                                      \"B19001_001E\": \"HOUSEHOLD INCOME IN THE PAST 12 MONTHS IN 2017 INFLATION-ADJUSTED DOLLARS\",\n",
    "                                      \"B17001_001E\": \"POVERTY STATUS IN THE PAST 12 MONTHS BY SEX BY AGE\",\n",
    "                                      \"C24010_001E\": \"SEX BY OCCUPATION FOR THE CIVILIAN EMPLOYED POPULATION 16 YEARS AND OVER\",\n",
    "                                      \"B25075_002E\": \"VALUE OF HOME\",\n",
    "                                      \"B25044_001E\": \"TENURE BY VEHICLES AVAILABLE\",\n",
    "                                      \"B25034_001E\": \"YEAR STRUCTURE BUILT\",                                    \n",
    "                                      \"NAME\": \"Name\"})\n",
    "\n",
    "\n",
    "\n",
    "# Final DataFrame\n",
    "census_pd = census_pd[[\"NATIVITY AND CITIZENSHIP STATUS IN THE UNITED STATES\", \"HOUSEHOLD INCOME IN THE PAST 12 MONTHS IN 2017 INFLATION-ADJUSTED DOLLARS\",\"POVERTY STATUS IN THE PAST 12 MONTHS BY SEX BY AGE\", \"SEX BY OCCUPATION FOR THE CIVILIAN EMPLOYED POPULATION 16 YEARS AND OVER\", \"VALUE OF HOME\", \"TENURE BY VEHICLES AVAILABLE\",\"YEAR STRUCTURE BUILT\"]]\n",
    "# Visualize\n",
    "print(len(census_pd))\n",
    "census_pd.head()"
   ]
  },
  {
   "cell_type": "code",
   "execution_count": null,
   "metadata": {},
   "outputs": [],
   "source": [
    "#Define a list of years you need to query\n",
    "years =[\"2010\", \"2011\", \"2012\", \"2013\", \"2014\", \"2015\", \"2016\", \"2017\"]\n",
    "#Begin looping through all of the selected years\n",
    "for x in np.arange(len(years)):\n",
    "    #printing the recording of the current year in the census query\n",
    "    print(f\"pulling census records {x}) - {years[x]}\")\n",
    "    #starting the try/except catch for any failed pulls\n",
    "    try:\n",
    "        #Request JSON query\n",
    "        all_years_census_data =  c.acs5.get((\"NAME\", \"B05001_001E\", \"B19001_001E\", \"B17001_001E\",\n",
    "                          \"C24010_001E\",\n",
    "                          \"B25075_002E\", \"B25034_001E\", \"B25044_001E\"),{'for': 'state:39'})\n"
   ]
  },
  {
   "cell_type": "code",
   "execution_count": null,
   "metadata": {},
   "outputs": [],
   "source": [
    "# Save as a csv\n",
    "# Note to avoid any issues later, use encoding=\"utf-8\"\n",
    "census_pd.to_csv(\"census_data.csv\", encoding=\"utf-8\", index=False)"
   ]
  },
  {
   "cell_type": "code",
   "execution_count": null,
   "metadata": {},
   "outputs": [],
   "source": []
  }
 ],
 "metadata": {
  "kernelspec": {
   "display_name": "Python 3",
   "language": "python",
   "name": "python3"
  },
  "language_info": {
   "codemirror_mode": {
    "name": "ipython",
    "version": 3
   },
   "file_extension": ".py",
   "mimetype": "text/x-python",
   "name": "python",
   "nbconvert_exporter": "python",
   "pygments_lexer": "ipython3",
   "version": "3.7.3"
  }
 },
 "nbformat": 4,
 "nbformat_minor": 2
}
