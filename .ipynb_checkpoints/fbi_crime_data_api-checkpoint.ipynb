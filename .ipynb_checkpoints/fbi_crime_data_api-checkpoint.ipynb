{
 "cells": [
  {
   "cell_type": "code",
   "execution_count": 25,
   "metadata": {},
   "outputs": [],
   "source": [
    "#\n",
    "# FBI Crime Data API\n",
    "#\n",
    "\n",
    "# Dependencies and Setup\n",
    "import pandas as pd\n",
    "import numpy as np\n",
    "import requests\n",
    "import time\n",
    "import json\n",
    "\n",
    "import matplotlib.pyplot as plt\n",
    "\n",
    "# Import API key\n",
    "from api_keys import api_key"
   ]
  },
  {
   "cell_type": "code",
   "execution_count": 39,
   "metadata": {},
   "outputs": [],
   "source": [
    "# perfrom API call\n",
    "# details from: https://crime-data-explorer.fr.cloud.gov/api is the do\n",
    "# api: https://api.usa.gov/crime/fbi/sapi/\n",
    "\n",
    "# /api/data/arrest/states/offense/{stateAbbr}/{variable}/{since}/{until} State level Arrest Demographic Count Endpoint\n",
    "# https://api.usa.gov/crime/fbi/sapi/api/data/arrest/states/offense/OH/all/01012010/07012019?API_KEY=iiHnOKfno2Mgkt5AynpvPpUQTEyxE77jo1RU8PIv\n",
    "\n",
    "my_key = \"qjxuYoCo1z10Fvy60mTLHOcftyK9sxevJw14QbvI\"\n",
    "\n",
    "url = \"https://api.usa.gov/crime/fbi/sapi/api/data/arrest/states/offense/OH/all/2010/2019?API_KEY=\"\n",
    "\n",
    "\n",
    "# Print the response object to the console\n",
    "#print(requests.get(url))\n"
   ]
  },
  {
   "cell_type": "code",
   "execution_count": 40,
   "metadata": {},
   "outputs": [
    {
     "data": {
      "text/plain": [
       "{'timestamp': '2019-07-29T22:25:03.501+0000',\n",
       " 'status': 500,\n",
       " 'error': 'Internal Server Error',\n",
       " 'message': 'No message available',\n",
       " 'path': '/api/data/arrest/states/offense/OH/all/2010/2019'}"
      ]
     },
     "execution_count": 40,
     "metadata": {},
     "output_type": "execute_result"
    }
   ],
   "source": [
    "arrest_data = requests.get(f\"{url}{my_key}\").json()\n",
    "arrest_data"
   ]
  },
  {
   "cell_type": "code",
   "execution_count": null,
   "metadata": {},
   "outputs": [],
   "source": []
  },
  {
   "cell_type": "code",
   "execution_count": null,
   "metadata": {},
   "outputs": [],
   "source": []
  },
  {
   "cell_type": "code",
   "execution_count": null,
   "metadata": {},
   "outputs": [],
   "source": []
  },
  {
   "cell_type": "code",
   "execution_count": 29,
   "metadata": {},
   "outputs": [],
   "source": [
    "# Create dataframe to be added to in for loop"
   ]
  },
  {
   "cell_type": "code",
   "execution_count": null,
   "metadata": {},
   "outputs": [],
   "source": []
  },
  {
   "cell_type": "code",
   "execution_count": null,
   "metadata": {},
   "outputs": [],
   "source": []
  }
 ],
 "metadata": {
  "kernelspec": {
   "display_name": "Python 3",
   "language": "python",
   "name": "python3"
  },
  "language_info": {
   "codemirror_mode": {
    "name": "ipython",
    "version": 3
   },
   "file_extension": ".py",
   "mimetype": "text/x-python",
   "name": "python",
   "nbconvert_exporter": "python",
   "pygments_lexer": "ipython3",
   "version": "3.7.3"
  }
 },
 "nbformat": 4,
 "nbformat_minor": 2
}
