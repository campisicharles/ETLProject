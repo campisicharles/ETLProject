{
 "cells": [
  {
   "cell_type": "code",
   "execution_count": 1,
   "metadata": {},
   "outputs": [],
   "source": [
    "# Dependencies\n",
    "#!pip install Census\n",
    "import numpy as np\n",
    "import pandas as pd\n",
    "import matplotlib.pyplot as plt\n",
    "import requests\n",
    "from census import Census\n",
    "import os\n",
    "import datetime\n",
    "import time\n",
    "import json\n",
    "\n",
    "# Census API Key\n",
    "from config import api_key\n"
   ]
  },
  {
   "cell_type": "code",
   "execution_count": 2,
   "metadata": {},
   "outputs": [],
   "source": [
    "c = Census(api_key, year=2017)\n",
    "census_data1 = c.acs5.get((\"NAME\", \"B01003_001E\", \"B23025_005E\", \"B19013_001E\", \"B17001_002E\", \"B25064_001E\", \"B25077_001E\", \"B25088_002E\"),{'for': 'state:39'})\n",
    "\n",
    "# Convert to DataFrame\n",
    "OHhousing2017_pd = pd.DataFrame(census_data1)\n",
    "\n",
    "c = Census(api_key, year=2017)\n",
    "census_data2 = c.acs5.get((\"NAME\", \"B01003_001E\", \"B15003_002E\", \"B15003_017E\", \"B15003_018E\", \"B15003_021E\", \"B15003_022E\", \"B15003_023E\", \"B15003_024E\", \"B15003_025E\"),{'for': 'state:39'})\n",
    "\n",
    "# Convert to DataFrame\n",
    "OHedu2017_pd = pd.DataFrame(census_data2)"
   ]
  },
  {
   "cell_type": "code",
   "execution_count": null,
   "metadata": {},
   "outputs": [],
   "source": [
    "c = Census(api_key, year=2016)\n",
    "census_data3 = c.acs5.get((\"NAME\", \"B01003_001E\", \"B23025_005E\", \"B19013_001E\", \"B17001_002E\", \"B25064_001E\", \"B25077_001E\", \"B25088_002E\"),{'for': 'state:39'})\n",
    "\n",
    "# Convert to DataFrame\n",
    "OHhousing2016_pd = pd.DataFrame(census_data3)\n",
    "\n",
    "c = Census(api_key, year=2016)\n",
    "census_data4 = c.acs5.get((\"NAME\", \"B01003_001E\", \"B15003_002E\", \"B15003_017E\", \"B15003_018E\", \"B15003_021E\", \"B15003_022E\", \"B15003_023E\", \"B15003_024E\", \"B15003_025E\"),{'for': 'state:39'})\n",
    "\n",
    "# Convert to DataFrame\n",
    "OHedu2016_pd = pd.DataFrame(census_data4)\n"
   ]
  },
  {
   "cell_type": "code",
   "execution_count": null,
   "metadata": {},
   "outputs": [],
   "source": [
    "c = Census(api_key, year=2015)\n",
    "census_data5 = c.acs5.get((\"NAME\", \"B01003_001E\", \"B23025_005E\", \"B19013_001E\", \"B17001_002E\", \"B25064_001E\", \"B25077_001E\", \"B25088_002E\"),{'for': 'state:39'})\n",
    "\n",
    "# Convert to DataFrame\n",
    "OHhousing2015_pd = pd.DataFrame(census_data5)\n",
    "\n",
    "c = Census(api_key, year=2015)\n",
    "census_data6 = c.acs5.get((\"NAME\", \"B01003_001E\", \"B15003_002E\", \"B15003_017E\", \"B15003_018E\", \"B15003_021E\", \"B15003_022E\", \"B15003_023E\", \"B15003_024E\", \"B15003_025E\"),{'for': 'state:39'})\n",
    "\n",
    "# Convert to DataFrame\n",
    "OHedu2015_pd = pd.DataFrame(census_data6)"
   ]
  },
  {
   "cell_type": "code",
   "execution_count": null,
   "metadata": {},
   "outputs": [],
   "source": [
    "c = Census(api_key, year=2014)\n",
    "census_data7 = c.acs5.get((\"NAME\", \"B01003_001E\", \"B23025_005E\", \"B19013_001E\", \"B17001_002E\", \"B25064_001E\", \"B25077_001E\", \"B25088_002E\"),{'for': 'state:39'})\n",
    "\n",
    "# Convert to DataFrame\n",
    "OHhousing2014_pd = pd.DataFrame(census_data7)\n",
    "\n",
    "c = Census(api_key, year=2014)\n",
    "census_data8 = c.acs5.get((\"NAME\", \"B01003_001E\", \"B15003_002E\", \"B15003_017E\", \"B15003_018E\", \"B15003_021E\", \"B15003_022E\", \"B15003_023E\", \"B15003_024E\", \"B15003_025E\"),{'for': 'state:39'})\n",
    "\n",
    "# Convert to DataFrame\n",
    "OHedu2014_pd = pd.DataFrame(census_data8)"
   ]
  },
  {
   "cell_type": "code",
   "execution_count": null,
   "metadata": {},
   "outputs": [],
   "source": [
    "c = Census(api_key, year=2013)\n",
    "census_data9 = c.acs5.get((\"NAME\", \"B01003_001E\", \"B23025_005E\", \"B19013_001E\", \"B17001_002E\", \"B25064_001E\", \"B25077_001E\", \"B25088_002E\"),{'for': 'state:39'})\n",
    "\n",
    "# Convert to DataFrame\n",
    "OHhousing2013_pd = pd.DataFrame(census_data9)\n",
    "\n",
    "c = Census(api_key, year=2013)\n",
    "census_data10 = c.acs5.get((\"NAME\", \"B01003_001E\", \"B15003_002E\", \"B15003_017E\", \"B15003_018E\", \"B15003_021E\", \"B15003_022E\", \"B15003_023E\", \"B15003_024E\", \"B15003_025E\"),{'for': 'state:39'})\n",
    "\n",
    "# Convert to DataFrame\n",
    "OHedu2013_pd = pd.DataFrame(census_data10)    "
   ]
  },
  {
   "cell_type": "code",
   "execution_count": null,
   "metadata": {},
   "outputs": [],
   "source": [
    "c = Census(api_key, year=2012)\n",
    "census_data11 = c.acs5.get((\"NAME\", \"B01003_001E\", \"B23025_005E\", \"B19013_001E\", \"B17001_002E\", \"B25064_001E\", \"B25077_001E\", \"B25088_002E\"),{'for': 'state:39'})\n",
    "\n",
    "# Convert to DataFrame\n",
    "OHhousing2012_pd = pd.DataFrame(census_data11)\n",
    "OHhousing2012_pd\n"
   ]
  },
  {
   "cell_type": "code",
   "execution_count": null,
   "metadata": {},
   "outputs": [],
   "source": [
    "c = Census(api_key, year=2012)\n",
    "census_data12 = c.acs5.get((\"NAME\", \"B01003_001E\", \"B15003_002E\", \"B15003_017E\", \"B15003_018E\", \"B15003_021E\", \"B15003_022E\", \"B15003_023E\", \"B15003_024E\", \"B15003_025E\"),{'for': 'state:39'})\n",
    "\n",
    "# Convert to DataFrame\n",
    "OHedu2012_pd = pd.DataFrame(census_data12)\n",
    "OHedu2012_pd"
   ]
  },
  {
   "cell_type": "code",
   "execution_count": null,
   "metadata": {},
   "outputs": [],
   "source": [
    "OHedu23 = OHedu2012_pd.append(OHedu2013_pd)\n",
    "OHedu234 = OHedu23.append(OHedu2014_pd)\n",
    "OHedu2345 = OHedu234.append(OHedu2015_pd)\n",
    "OHedu23456= OHedu2345.append(OHedu2016_pd)\n",
    "OHedu234567 = OHedu23456.append(OHedu2017_pd)\n",
    "OHedu234567.insert(0, \"Year\", [2012, 2013, 2014, 2015, 2016, 2017], True)\n",
    "OHedu234567"
   ]
  },
  {
   "cell_type": "code",
   "execution_count": null,
   "metadata": {},
   "outputs": [],
   "source": [
    "OHhousing23 = OHhousing2012_pd.append(OHhousing2013_pd)\n",
    "OHhousing234 = OHhousing23.append(OHhousing2014_pd)\n",
    "OHhousing2345 = OHhousing234.append(OHhousing2015_pd)\n",
    "OHhousing23456= OHhousing2345.append(OHhousing2016_pd)\n",
    "OHhousing234567 = OHhousing23456.append(OHhousing2017_pd)\n",
    "OHhousing234567.insert(0, \"Year\", [2012, 2013, 2014, 2015, 2016, 2017], True)\n",
    "OHhousing234567"
   ]
  },
  {
   "cell_type": "code",
   "execution_count": null,
   "metadata": {},
   "outputs": [],
   "source": [
    "c = Census(api_key, year=2017)\n",
    "census_data = c.acs5.get((\"NAME\", \"B01003_001E\", \"B23025_005E\", \"B19013_001E\", \"B17001_002E\", \"B25064_001E\", \"B25077_001E\", \"B25088_002E\"),{'for': 'state:18'})\n",
    "\n",
    "# Convert to DataFrame\n",
    "INhousing2017_pd = pd.DataFrame(census_data)\n",
    "\n",
    "c = Census(api_key, year=2017)\n",
    "census_data = c.acs5.get((\"NAME\", \"B01003_001E\", \"B15003_002E\", \"B15003_017E\", \"B15003_018E\", \"B15003_021E\", \"B15003_022E\", \"B15003_023E\", \"B15003_024E\", \"B15003_025E\"),{'for': 'state:18'})\n",
    "\n",
    "# Convert to DataFrame\n",
    "INedu2017_pd = pd.DataFrame(census_data)\n",
    "\n",
    "c = Census(api_key, year=2016)\n",
    "census_data = c.acs5.get((\"NAME\", \"B01003_001E\", \"B23025_005E\", \"B19013_001E\", \"B17001_002E\", \"B25064_001E\", \"B25077_001E\", \"B25088_002E\"),{'for': 'state:18'})\n",
    "INhousing2016_pd = pd.DataFrame(census_data)\n",
    "c = Census(api_key, year=2016)\n",
    "census_data = c.acs5.get((\"NAME\", \"B01003_001E\", \"B15003_002E\", \"B15003_017E\", \"B15003_018E\", \"B15003_021E\", \"B15003_022E\", \"B15003_023E\", \"B15003_024E\", \"B15003_025E\"),{'for': 'state:18'})\n",
    "INedu2016_pd = pd.DataFrame(census_data)\n",
    "\n",
    "c = Census(api_key, year=2015)\n",
    "census_data = c.acs5.get((\"NAME\", \"B01003_001E\", \"B23025_005E\", \"B19013_001E\", \"B17001_002E\", \"B25064_001E\", \"B25077_001E\", \"B25088_002E\"),{'for': 'state:18'})\n",
    "INhousing2015_pd = pd.DataFrame(census_data)\n",
    "\n",
    "c = Census(api_key, year=2015)\n",
    "census_data = c.acs5.get((\"NAME\", \"B01003_001E\", \"B15003_002E\", \"B15003_017E\", \"B15003_018E\", \"B15003_021E\", \"B15003_022E\", \"B15003_023E\", \"B15003_024E\", \"B15003_025E\"),{'for': 'state:18'})\n",
    "INedu2015_pd = pd.DataFrame(census_data)\n",
    "\n",
    "c = Census(api_key, year=2014)\n",
    "census_data = c.acs5.get((\"NAME\", \"B01003_001E\", \"B23025_005E\", \"B19013_001E\", \"B17001_002E\", \"B25064_001E\", \"B25077_001E\", \"B25088_002E\"),{'for': 'state:18'})\n",
    "INhousing2014_pd = pd.DataFrame(census_data)\n",
    "\n",
    "c = Census(api_key, year=2014)\n",
    "census_data = c.acs5.get((\"NAME\", \"B01003_001E\", \"B15003_002E\", \"B15003_017E\", \"B15003_018E\", \"B15003_021E\", \"B15003_022E\", \"B15003_023E\", \"B15003_024E\", \"B15003_025E\"),{'for': 'state:18'})\n",
    "INedu2014_pd = pd.DataFrame(census_data)\n",
    "\n",
    "c = Census(api_key, year=2013)\n",
    "census_data = c.acs5.get((\"NAME\", \"B01003_001E\", \"B23025_005E\", \"B19013_001E\", \"B17001_002E\", \"B25064_001E\", \"B25077_001E\", \"B25088_002E\"),{'for': 'state:18'})\n",
    "INhousing2013_pd = pd.DataFrame(census_data)\n",
    "\n",
    "c = Census(api_key, year=2013)\n",
    "census_data = c.acs5.get((\"NAME\", \"B01003_001E\", \"B15003_002E\", \"B15003_017E\", \"B15003_018E\", \"B15003_021E\", \"B15003_022E\", \"B15003_023E\", \"B15003_024E\", \"B15003_025E\"),{'for': 'state:18'})\n",
    "INedu2013_pd = pd.DataFrame(census_data)\n",
    "\n",
    "c = Census(api_key, year=2012)\n",
    "census_data = c.acs5.get((\"NAME\", \"B01003_001E\", \"B23025_005E\", \"B19013_001E\", \"B17001_002E\", \"B25064_001E\", \"B25077_001E\", \"B25088_002E\"),{'for': 'state:18'})\n",
    "INhousing2012_pd = pd.DataFrame(census_data)\n",
    "\n",
    "c = Census(api_key, year=2012)\n",
    "census_data = c.acs5.get((\"NAME\", \"B01003_001E\", \"B15003_002E\", \"B15003_017E\", \"B15003_018E\", \"B15003_021E\", \"B15003_022E\", \"B15003_023E\", \"B15003_024E\", \"B15003_025E\"),{'for': 'state:18'})\n",
    "INedu2012_pd = pd.DataFrame(census_data)"
   ]
  },
  {
   "cell_type": "code",
   "execution_count": null,
   "metadata": {},
   "outputs": [],
   "source": [
    "INhousing23 = INhousing2012_pd.append(INhousing2013_pd)\n",
    "INhousing234 = INhousing23.append(INhousing2014_pd)\n",
    "INhousing2345 = INhousing234.append(INhousing2015_pd)\n",
    "INhousing23456= INhousing2345.append(INhousing2016_pd)\n",
    "INhousing234567 = INhousing23456.append(INhousing2017_pd)\n",
    "INhousing234567.insert(0, \"Year\", [2012, 2013, 2014, 2015, 2016, 2017], True)\n",
    "INhousing234567"
   ]
  },
  {
   "cell_type": "code",
   "execution_count": null,
   "metadata": {},
   "outputs": [],
   "source": [
    "INedu23 = INedu2012_pd.append(INedu2013_pd)\n",
    "INedu234 = INedu23.append(INedu2014_pd)\n",
    "INedu2345 = INedu234.append(INedu2015_pd)\n",
    "INedu23456= INedu2345.append(INedu2016_pd)\n",
    "INedu234567 = INedu23456.append(INedu2017_pd)\n",
    "INedu234567.insert(0, \"Year\", [2012, 2013, 2014, 2015, 2016, 2017], True)\n",
    "INedu234567"
   ]
  },
  {
   "cell_type": "code",
   "execution_count": null,
   "metadata": {},
   "outputs": [],
   "source": [
    "c = Census(api_key, year=2017)\n",
    "census_data = c.acs5.get((\"NAME\", \"B01003_001E\", \"B23025_005E\", \"B19013_001E\", \"B17001_002E\", \"B25064_001E\", \"B25077_001E\", \"B25088_002E\"),{'for': 'state:21'})\n",
    "\n",
    "# Convert to DataFrame\n",
    "KYhousing2017_pd = pd.DataFrame(census_data)\n",
    "\n",
    "c = Census(api_key, year=2017)\n",
    "census_data = c.acs5.get((\"NAME\", \"B01003_001E\", \"B15003_002E\", \"B15003_017E\", \"B15003_018E\", \"B15003_021E\", \"B15003_022E\", \"B15003_023E\", \"B15003_024E\", \"B15003_025E\"),{'for': 'state:21'})\n",
    "\n",
    "# Convert to DataFrame\n",
    "KYedu2017_pd = pd.DataFrame(census_data)\n",
    "\n",
    "c = Census(api_key, year=2016)\n",
    "census_data = c.acs5.get((\"NAME\", \"B01003_001E\", \"B23025_005E\", \"B19013_001E\", \"B17001_002E\", \"B25064_001E\", \"B25077_001E\", \"B25088_002E\"),{'for': 'state:21'})\n",
    "KYhousing2016_pd = pd.DataFrame(census_data)\n",
    "c = Census(api_key, year=2016)\n",
    "census_data = c.acs5.get((\"NAME\", \"B01003_001E\", \"B15003_002E\", \"B15003_017E\", \"B15003_018E\", \"B15003_021E\", \"B15003_022E\", \"B15003_023E\", \"B15003_024E\", \"B15003_025E\"),{'for': 'state:21'})\n",
    "KYedu2016_pd = pd.DataFrame(census_data)\n",
    "\n",
    "c = Census(api_key, year=2015)\n",
    "census_data = c.acs5.get((\"NAME\", \"B01003_001E\", \"B23025_005E\", \"B19013_001E\", \"B17001_002E\", \"B25064_001E\", \"B25077_001E\", \"B25088_002E\"),{'for': 'state:21'})\n",
    "KYhousing2015_pd = pd.DataFrame(census_data)\n",
    "\n",
    "c = Census(api_key, year=2015)\n",
    "census_data = c.acs5.get((\"NAME\", \"B01003_001E\", \"B15003_002E\", \"B15003_017E\", \"B15003_018E\", \"B15003_021E\", \"B15003_022E\", \"B15003_023E\", \"B15003_024E\", \"B15003_025E\"),{'for': 'state:21'})\n",
    "KYedu2015_pd = pd.DataFrame(census_data)\n",
    "\n",
    "c = Census(api_key, year=2014)\n",
    "census_data = c.acs5.get((\"NAME\", \"B01003_001E\", \"B23025_005E\", \"B19013_001E\", \"B17001_002E\", \"B25064_001E\", \"B25077_001E\", \"B25088_002E\"),{'for': 'state:21'})\n",
    "KYhousing2014_pd = pd.DataFrame(census_data)\n",
    "\n",
    "c = Census(api_key, year=2014)\n",
    "census_data = c.acs5.get((\"NAME\", \"B01003_001E\", \"B15003_002E\", \"B15003_017E\", \"B15003_018E\", \"B15003_021E\", \"B15003_022E\", \"B15003_023E\", \"B15003_024E\", \"B15003_025E\"),{'for': 'state:21'})\n",
    "KYedu2014_pd = pd.DataFrame(census_data)\n",
    "\n",
    "c = Census(api_key, year=2013)\n",
    "census_data = c.acs5.get((\"NAME\", \"B01003_001E\", \"B23025_005E\", \"B19013_001E\", \"B17001_002E\", \"B25064_001E\", \"B25077_001E\", \"B25088_002E\"),{'for': 'state:21'})\n",
    "KYhousing2013_pd = pd.DataFrame(census_data)\n",
    "\n",
    "c = Census(api_key, year=2013)\n",
    "census_data = c.acs5.get((\"NAME\", \"B01003_001E\", \"B15003_002E\", \"B15003_017E\", \"B15003_018E\", \"B15003_021E\", \"B15003_022E\", \"B15003_023E\", \"B15003_024E\", \"B15003_025E\"),{'for': 'state:21'})\n",
    "KYedu2013_pd = pd.DataFrame(census_data)\n",
    "\n",
    "c = Census(api_key, year=2012)\n",
    "census_data = c.acs5.get((\"NAME\", \"B01003_001E\", \"B23025_005E\", \"B19013_001E\", \"B17001_002E\", \"B25064_001E\", \"B25077_001E\", \"B25088_002E\"),{'for': 'state:21'})\n",
    "KYhousing2012_pd = pd.DataFrame(census_data)\n",
    "\n",
    "c = Census(api_key, year=2012)\n",
    "census_data = c.acs5.get((\"NAME\", \"B01003_001E\", \"B15003_002E\", \"B15003_017E\", \"B15003_018E\", \"B15003_021E\", \"B15003_022E\", \"B15003_023E\", \"B15003_024E\", \"B15003_025E\"),{'for': 'state:21'})\n",
    "KYedu2012_pd = pd.DataFrame(census_data)"
   ]
  },
  {
   "cell_type": "code",
   "execution_count": null,
   "metadata": {},
   "outputs": [],
   "source": [
    "KYhousing23 = KYhousing2012_pd.append(KYhousing2013_pd)\n",
    "KYhousing234 = KYhousing23.append(KYhousing2014_pd)\n",
    "KYhousing2345 = KYhousing234.append(KYhousing2015_pd)\n",
    "KYhousing23456= KYhousing2345.append(KYhousing2016_pd)\n",
    "KYhousing234567 = KYhousing23456.append(KYhousing2017_pd)\n",
    "KYhousing234567.insert(0, \"Year\", [2012, 2013, 2014, 2015, 2016, 2017], True)\n",
    "KYhousing234567"
   ]
  },
  {
   "cell_type": "code",
   "execution_count": null,
   "metadata": {},
   "outputs": [],
   "source": [
    "KYedu23 = KYedu2012_pd.append(KYedu2013_pd)\n",
    "KYedu234 = KYedu23.append(KYedu2014_pd)\n",
    "KYedu2345 = KYedu234.append(KYedu2015_pd)\n",
    "KYedu23456= KYedu2345.append(KYedu2016_pd)\n",
    "KYedu234567 = KYedu23456.append(KYedu2017_pd)\n",
    "KYedu234567.insert(0, \"Year\", [2012, 2013, 2014, 2015, 2016, 2017], True)\n",
    "KYedu234567"
   ]
  },
  {
   "cell_type": "code",
   "execution_count": null,
   "metadata": {},
   "outputs": [],
   "source": [
    "c = Census(api_key, year=2017)\n",
    "census_data = c.acs5.get((\"NAME\", \"B01003_001E\", \"B23025_005E\", \"B19013_001E\", \"B17001_002E\", \"B25064_001E\", \"B25077_001E\", \"B25088_002E\"),{'for': 'state:26'})\n",
    "\n",
    "# Convert to DataFrame\n",
    "MIhousing2017_pd = pd.DataFrame(census_data)\n",
    "\n",
    "c = Census(api_key, year=2017)\n",
    "census_data = c.acs5.get((\"NAME\", \"B01003_001E\", \"B15003_002E\", \"B15003_017E\", \"B15003_018E\", \"B15003_021E\", \"B15003_022E\", \"B15003_023E\", \"B15003_024E\", \"B15003_025E\"),{'for': 'state:26'})\n",
    "\n",
    "# Convert to DataFrame\n",
    "MIedu2017_pd = pd.DataFrame(census_data)\n",
    "\n",
    "c = Census(api_key, year=2016)\n",
    "census_data = c.acs5.get((\"NAME\", \"B01003_001E\", \"B23025_005E\", \"B19013_001E\", \"B17001_002E\", \"B25064_001E\", \"B25077_001E\", \"B25088_002E\"),{'for': 'state:26'})\n",
    "MIhousing2016_pd = pd.DataFrame(census_data)\n",
    "c = Census(api_key, year=2016)\n",
    "census_data = c.acs5.get((\"NAME\", \"B01003_001E\", \"B15003_002E\", \"B15003_017E\", \"B15003_018E\", \"B15003_021E\", \"B15003_022E\", \"B15003_023E\", \"B15003_024E\", \"B15003_025E\"),{'for': 'state:26'})\n",
    "MIedu2016_pd = pd.DataFrame(census_data)\n",
    "\n",
    "c = Census(api_key, year=2015)\n",
    "census_data = c.acs5.get((\"NAME\", \"B01003_001E\", \"B23025_005E\", \"B19013_001E\", \"B17001_002E\", \"B25064_001E\", \"B25077_001E\", \"B25088_002E\"),{'for': 'state:26'})\n",
    "MIhousing2015_pd = pd.DataFrame(census_data)\n",
    "\n",
    "c = Census(api_key, year=2015)\n",
    "census_data = c.acs5.get((\"NAME\", \"B01003_001E\", \"B15003_002E\", \"B15003_017E\", \"B15003_018E\", \"B15003_021E\", \"B15003_022E\", \"B15003_023E\", \"B15003_024E\", \"B15003_025E\"),{'for': 'state:26'})\n",
    "MIedu2015_pd = pd.DataFrame(census_data)\n",
    "\n",
    "c = Census(api_key, year=2014)\n",
    "census_data = c.acs5.get((\"NAME\", \"B01003_001E\", \"B23025_005E\", \"B19013_001E\", \"B17001_002E\", \"B25064_001E\", \"B25077_001E\", \"B25088_002E\"),{'for': 'state:26'})\n",
    "MIhousing2014_pd = pd.DataFrame(census_data)\n",
    "\n",
    "c = Census(api_key, year=2014)\n",
    "census_data = c.acs5.get((\"NAME\", \"B01003_001E\", \"B15003_002E\", \"B15003_017E\", \"B15003_018E\", \"B15003_021E\", \"B15003_022E\", \"B15003_023E\", \"B15003_024E\", \"B15003_025E\"),{'for': 'state:26'})\n",
    "MIedu2014_pd = pd.DataFrame(census_data)\n",
    "\n",
    "c = Census(api_key, year=2013)\n",
    "census_data = c.acs5.get((\"NAME\", \"B01003_001E\", \"B23025_005E\", \"B19013_001E\", \"B17001_002E\", \"B25064_001E\", \"B25077_001E\", \"B25088_002E\"),{'for': 'state:26'})\n",
    "MIhousing2013_pd = pd.DataFrame(census_data)\n",
    "\n",
    "c = Census(api_key, year=2013)\n",
    "census_data = c.acs5.get((\"NAME\", \"B01003_001E\", \"B15003_002E\", \"B15003_017E\", \"B15003_018E\", \"B15003_021E\", \"B15003_022E\", \"B15003_023E\", \"B15003_024E\", \"B15003_025E\"),{'for': 'state:26'})\n",
    "MIedu2013_pd = pd.DataFrame(census_data)\n",
    "\n",
    "c = Census(api_key, year=2012)\n",
    "census_data = c.acs5.get((\"NAME\", \"B01003_001E\", \"B23025_005E\", \"B19013_001E\", \"B17001_002E\", \"B25064_001E\", \"B25077_001E\", \"B25088_002E\"),{'for': 'state:26'})\n",
    "MIhousing2012_pd = pd.DataFrame(census_data)\n",
    "\n",
    "c = Census(api_key, year=2012)\n",
    "census_data = c.acs5.get((\"NAME\", \"B01003_001E\", \"B15003_002E\", \"B15003_017E\", \"B15003_018E\", \"B15003_021E\", \"B15003_022E\", \"B15003_023E\", \"B15003_024E\", \"B15003_025E\"),{'for': 'state:26'})\n",
    "MIedu2012_pd = pd.DataFrame(census_data)"
   ]
  },
  {
   "cell_type": "code",
   "execution_count": null,
   "metadata": {},
   "outputs": [],
   "source": [
    "MIhousing23 = MIhousing2012_pd.append(MIhousing2013_pd)\n",
    "MIhousing234 = MIhousing23.append(MIhousing2014_pd)\n",
    "MIhousing2345 = MIhousing234.append(MIhousing2015_pd)\n",
    "MIhousing23456= MIhousing2345.append(MIhousing2016_pd)\n",
    "MIhousing234567 = MIhousing23456.append(MIhousing2017_pd)\n",
    "MIhousing234567.insert(0, \"Year\", [2012, 2013, 2014, 2015, 2016, 2017], True)\n",
    "MIhousing234567"
   ]
  },
  {
   "cell_type": "code",
   "execution_count": null,
   "metadata": {},
   "outputs": [],
   "source": [
    "MIedu23 = MIedu2012_pd.append(MIedu2013_pd)\n",
    "MIedu234 = MIedu23.append(MIedu2014_pd)\n",
    "MIedu2345 = MIedu234.append(MIedu2015_pd)\n",
    "MIedu23456= MIedu2345.append(MIedu2016_pd)\n",
    "MIedu234567 = MIedu23456.append(MIedu2017_pd)\n",
    "MIedu234567.insert(0, \"Year\", [2012, 2013, 2014, 2015, 2016, 2017], True)\n",
    "MIedu234567"
   ]
  },
  {
   "cell_type": "code",
   "execution_count": null,
   "metadata": {},
   "outputs": [],
   "source": []
  },
  {
   "cell_type": "code",
   "execution_count": null,
   "metadata": {},
   "outputs": [],
   "source": [
    "c = Census(api_key, year=2017)\n",
    "census_data = c.acs5.get((\"NAME\", \"B01003_001E\", \"B23025_005E\", \"B19013_001E\", \"B17001_002E\", \"B25064_001E\", \"B25077_001E\", \"B25088_002E\"),{'for': 'state:42'})\n",
    "\n",
    "# Convert to DataFrame\n",
    "PAhousing2017_pd = pd.DataFrame(census_data)\n",
    "\n",
    "c = Census(api_key, year=2017)\n",
    "census_data = c.acs5.get((\"NAME\", \"B01003_001E\", \"B15003_002E\", \"B15003_017E\", \"B15003_018E\", \"B15003_021E\", \"B15003_022E\", \"B15003_023E\", \"B15003_024E\", \"B15003_025E\"),{'for': 'state:42'})\n",
    "\n",
    "# Convert to DataFrame\n",
    "PAedu2017_pd = pd.DataFrame(census_data)\n",
    "\n",
    "c = Census(api_key, year=2016)\n",
    "census_data = c.acs5.get((\"NAME\", \"B01003_001E\", \"B23025_005E\", \"B19013_001E\", \"B17001_002E\", \"B25064_001E\", \"B25077_001E\", \"B25088_002E\"),{'for': 'state:42'})\n",
    "PAhousing2016_pd = pd.DataFrame(census_data)\n",
    "c = Census(api_key, year=2016)\n",
    "census_data = c.acs5.get((\"NAME\", \"B01003_001E\", \"B15003_002E\", \"B15003_017E\", \"B15003_018E\", \"B15003_021E\", \"B15003_022E\", \"B15003_023E\", \"B15003_024E\", \"B15003_025E\"),{'for': 'state:42'})\n",
    "PAedu2016_pd = pd.DataFrame(census_data)\n",
    "\n",
    "c = Census(api_key, year=2015)\n",
    "census_data = c.acs5.get((\"NAME\", \"B01003_001E\", \"B23025_005E\", \"B19013_001E\", \"B17001_002E\", \"B25064_001E\", \"B25077_001E\", \"B25088_002E\"),{'for': 'state:42'})\n",
    "PAhousing2015_pd = pd.DataFrame(census_data)\n",
    "\n",
    "c = Census(api_key, year=2015)\n",
    "census_data = c.acs5.get((\"NAME\", \"B01003_001E\", \"B15003_002E\", \"B15003_017E\", \"B15003_018E\", \"B15003_021E\", \"B15003_022E\", \"B15003_023E\", \"B15003_024E\", \"B15003_025E\"),{'for': 'state:42'})\n",
    "PAedu2015_pd = pd.DataFrame(census_data)\n",
    "\n",
    "c = Census(api_key, year=2014)\n",
    "census_data = c.acs5.get((\"NAME\", \"B01003_001E\", \"B23025_005E\", \"B19013_001E\", \"B17001_002E\", \"B25064_001E\", \"B25077_001E\", \"B25088_002E\"),{'for': 'state:42'})\n",
    "PAhousing2014_pd = pd.DataFrame(census_data)\n",
    "\n",
    "c = Census(api_key, year=2014)\n",
    "census_data = c.acs5.get((\"NAME\", \"B01003_001E\", \"B15003_002E\", \"B15003_017E\", \"B15003_018E\", \"B15003_021E\", \"B15003_022E\", \"B15003_023E\", \"B15003_024E\", \"B15003_025E\"),{'for': 'state:42'})\n",
    "PAedu2014_pd = pd.DataFrame(census_data)\n",
    "\n",
    "c = Census(api_key, year=2013)\n",
    "census_data = c.acs5.get((\"NAME\", \"B01003_001E\", \"B23025_005E\", \"B19013_001E\", \"B17001_002E\", \"B25064_001E\", \"B25077_001E\", \"B25088_002E\"),{'for': 'state:42'})\n",
    "PAhousing2013_pd = pd.DataFrame(census_data)\n",
    "\n",
    "c = Census(api_key, year=2013)\n",
    "census_data = c.acs5.get((\"NAME\", \"B01003_001E\", \"B15003_002E\", \"B15003_017E\", \"B15003_018E\", \"B15003_021E\", \"B15003_022E\", \"B15003_023E\", \"B15003_024E\", \"B15003_025E\"),{'for': 'state:42'})\n",
    "PAedu2013_pd = pd.DataFrame(census_data)\n",
    "\n",
    "c = Census(api_key, year=2012)\n",
    "census_data = c.acs5.get((\"NAME\", \"B01003_001E\", \"B23025_005E\", \"B19013_001E\", \"B17001_002E\", \"B25064_001E\", \"B25077_001E\", \"B25088_002E\"),{'for': 'state:42'})\n",
    "PAhousing2012_pd = pd.DataFrame(census_data)\n",
    "\n",
    "c = Census(api_key, year=2012)\n",
    "census_data = c.acs5.get((\"NAME\", \"B01003_001E\", \"B15003_002E\", \"B15003_017E\", \"B15003_018E\", \"B15003_021E\", \"B15003_022E\", \"B15003_023E\", \"B15003_024E\", \"B15003_025E\"),{'for': 'state:42'})\n",
    "PAedu2012_pd = pd.DataFrame(census_data)"
   ]
  },
  {
   "cell_type": "code",
   "execution_count": null,
   "metadata": {},
   "outputs": [],
   "source": [
    "PAhousing23 = PAhousing2012_pd.append(PAhousing2013_pd)\n",
    "PAhousing234 = PAhousing23.append(PAhousing2014_pd)\n",
    "PAhousing2345 = PAhousing234.append(PAhousing2015_pd)\n",
    "PAhousing23456= PAhousing2345.append(PAhousing2016_pd)\n",
    "PAhousing234567 = PAhousing23456.append(PAhousing2017_pd)\n",
    "PAhousing234567.insert(0, \"Year\", [2012, 2013, 2014, 2015, 2016, 2017], True)\n",
    "PAhousing234567"
   ]
  },
  {
   "cell_type": "code",
   "execution_count": null,
   "metadata": {},
   "outputs": [],
   "source": [
    "PAedu23 = PAedu2012_pd.append(PAedu2013_pd)\n",
    "PAedu234 = PAedu23.append(PAedu2014_pd)\n",
    "PAedu2345 = PAedu234.append(PAedu2015_pd)\n",
    "PAedu23456= PAedu2345.append(PAedu2016_pd)\n",
    "PAedu234567 = PAedu23456.append(PAedu2017_pd)\n",
    "PAedu234567.insert(0, \"Year\", [2012, 2013, 2014, 2015, 2016, 2017], True)\n",
    "PAedu234567"
   ]
  },
  {
   "cell_type": "code",
   "execution_count": null,
   "metadata": {},
   "outputs": [],
   "source": []
  },
  {
   "cell_type": "code",
   "execution_count": null,
   "metadata": {},
   "outputs": [],
   "source": []
  },
  {
   "cell_type": "code",
   "execution_count": null,
   "metadata": {},
   "outputs": [],
   "source": [
    "c = Census(api_key, year=2017)\n",
    "census_data = c.acs5.get((\"NAME\", \"B01003_001E\", \"B23025_005E\", \"B19013_001E\", \"B17001_002E\", \"B25064_001E\", \"B25077_001E\", \"B25088_002E\"),{'for': 'state:54'})\n",
    "\n",
    "# Convert to DataFrame\n",
    "WVhousing2017_pd = pd.DataFrame(census_data)\n",
    "\n",
    "c = Census(api_key, year=2017)\n",
    "census_data = c.acs5.get((\"NAME\", \"B01003_001E\", \"B15003_002E\", \"B15003_017E\", \"B15003_018E\", \"B15003_021E\", \"B15003_022E\", \"B15003_023E\", \"B15003_024E\", \"B15003_025E\"),{'for': 'state:54'})\n",
    "\n",
    "# Convert to DataFrame\n",
    "WVedu2017_pd = pd.DataFrame(census_data)\n",
    "\n",
    "c = Census(api_key, year=2016)\n",
    "census_data = c.acs5.get((\"NAME\", \"B01003_001E\", \"B23025_005E\", \"B19013_001E\", \"B17001_002E\", \"B25064_001E\", \"B25077_001E\", \"B25088_002E\"),{'for': 'state:54'})\n",
    "WVhousing2016_pd = pd.DataFrame(census_data)\n",
    "c = Census(api_key, year=2016)\n",
    "census_data = c.acs5.get((\"NAME\", \"B01003_001E\", \"B15003_002E\", \"B15003_017E\", \"B15003_018E\", \"B15003_021E\", \"B15003_022E\", \"B15003_023E\", \"B15003_024E\", \"B15003_025E\"),{'for': 'state:54'})\n",
    "WVedu2016_pd = pd.DataFrame(census_data)\n",
    "\n",
    "c = Census(api_key, year=2015)\n",
    "census_data = c.acs5.get((\"NAME\", \"B01003_001E\", \"B23025_005E\", \"B19013_001E\", \"B17001_002E\", \"B25064_001E\", \"B25077_001E\", \"B25088_002E\"),{'for': 'state:54'})\n",
    "WVhousing2015_pd = pd.DataFrame(census_data)\n",
    "\n",
    "c = Census(api_key, year=2015)\n",
    "census_data = c.acs5.get((\"NAME\", \"B01003_001E\", \"B15003_002E\", \"B15003_017E\", \"B15003_018E\", \"B15003_021E\", \"B15003_022E\", \"B15003_023E\", \"B15003_024E\", \"B15003_025E\"),{'for': 'state:54'})\n",
    "WVedu2015_pd = pd.DataFrame(census_data)\n",
    "\n",
    "c = Census(api_key, year=2014)\n",
    "census_data = c.acs5.get((\"NAME\", \"B01003_001E\", \"B23025_005E\", \"B19013_001E\", \"B17001_002E\", \"B25064_001E\", \"B25077_001E\", \"B25088_002E\"),{'for': 'state:54'})\n",
    "WVhousing2014_pd = pd.DataFrame(census_data)\n",
    "\n",
    "c = Census(api_key, year=2014)\n",
    "census_data = c.acs5.get((\"NAME\", \"B01003_001E\", \"B15003_002E\", \"B15003_017E\", \"B15003_018E\", \"B15003_021E\", \"B15003_022E\", \"B15003_023E\", \"B15003_024E\", \"B15003_025E\"),{'for': 'state:54'})\n",
    "WVedu2014_pd = pd.DataFrame(census_data)\n",
    "\n",
    "c = Census(api_key, year=2013)\n",
    "census_data = c.acs5.get((\"NAME\", \"B01003_001E\", \"B23025_005E\", \"B19013_001E\", \"B17001_002E\", \"B25064_001E\", \"B25077_001E\", \"B25088_002E\"),{'for': 'state:54'})\n",
    "WVhousing2013_pd = pd.DataFrame(census_data)\n",
    "\n",
    "c = Census(api_key, year=2013)\n",
    "census_data = c.acs5.get((\"NAME\", \"B01003_001E\", \"B15003_002E\", \"B15003_017E\", \"B15003_018E\", \"B15003_021E\", \"B15003_022E\", \"B15003_023E\", \"B15003_024E\", \"B15003_025E\"),{'for': 'state:54'})\n",
    "WVedu2013_pd = pd.DataFrame(census_data)\n",
    "\n",
    "c = Census(api_key, year=2012)\n",
    "census_data = c.acs5.get((\"NAME\", \"B01003_001E\", \"B23025_005E\", \"B19013_001E\", \"B17001_002E\", \"B25064_001E\", \"B25077_001E\", \"B25088_002E\"),{'for': 'state:54'})\n",
    "WVhousing2012_pd = pd.DataFrame(census_data)\n",
    "\n",
    "c = Census(api_key, year=2012)\n",
    "census_data = c.acs5.get((\"NAME\", \"B01003_001E\", \"B15003_002E\", \"B15003_017E\", \"B15003_018E\", \"B15003_021E\", \"B15003_022E\", \"B15003_023E\", \"B15003_024E\", \"B15003_025E\"),{'for': 'state:54'})\n",
    "WVedu2012_pd = pd.DataFrame(census_data)"
   ]
  },
  {
   "cell_type": "code",
   "execution_count": null,
   "metadata": {},
   "outputs": [],
   "source": [
    "WVhousing23 = WVhousing2012_pd.append(WVhousing2013_pd)\n",
    "WVhousing234 = WVhousing23.append(WVhousing2014_pd)\n",
    "WVhousing2345 = WVhousing234.append(WVhousing2015_pd)\n",
    "WVhousing23456= WVhousing2345.append(WVhousing2016_pd)\n",
    "WVhousing234567 = WVhousing23456.append(WVhousing2017_pd)\n",
    "WVhousing234567.insert(0, \"Year\", [2012, 2013, 2014, 2015, 2016, 2017], True)\n",
    "WVhousing234567"
   ]
  },
  {
   "cell_type": "code",
   "execution_count": null,
   "metadata": {},
   "outputs": [],
   "source": [
    "WVedu23 = WVedu2012_pd.append(WVedu2013_pd)\n",
    "WVedu234 = WVedu23.append(WVedu2014_pd)\n",
    "WVedu2345 = WVedu234.append(WVedu2015_pd)\n",
    "WVedu23456= WVedu2345.append(WVedu2016_pd)\n",
    "WVedu234567 = WVedu23456.append(WVedu2017_pd)\n",
    "WVedu234567.insert(0, \"Year\", [2012, 2013, 2014, 2015, 2016, 2017], True)\n",
    "WVedu234567"
   ]
  },
  {
   "cell_type": "code",
   "execution_count": null,
   "metadata": {},
   "outputs": [],
   "source": [
    "OHINhousing = OHhousing234567.append(INhousing234567)\n",
    "OHINKYhousing = OHINhousing.append(KYhousing234567)\n",
    "OHINKYMIhousing = OHINKYhousing.append(MIhousing234567)\n",
    "OHINKYMIPAhousing = OHINKYMIhousing.append(PAhousing234567)\n",
    "OHINKYMIPAWVhousing = OHINKYMIPAhousing.append(WVhousing234567)\n",
    "OHINKYMIPAWVhousing"
   ]
  },
  {
   "cell_type": "code",
   "execution_count": null,
   "metadata": {},
   "outputs": [],
   "source": [
    "OHINedu = OHedu234567.append(INedu234567)\n",
    "OHINKYedu = OHINedu.append(KYedu234567)\n",
    "OHINKYMIedu = OHINKYedu.append(MIedu234567)\n",
    "OHINKYMIPAedu = OHINKYMIedu.append(PAedu234567)\n",
    "OHINKYMIPAWVedu = OHINKYMIPAedu.append(WVedu234567)\n",
    "OHINKYMIPAWVedu"
   ]
  },
  {
   "cell_type": "code",
   "execution_count": null,
   "metadata": {},
   "outputs": [],
   "source": []
  },
  {
   "cell_type": "code",
   "execution_count": null,
   "metadata": {},
   "outputs": [],
   "source": [
    "# Column Reordering\n",
    "Alledu = OHINKYMIPAWVedu.rename(columns={\"B01003_001E\": \"Population\", \n",
    "                                      \"B15003_002E\": \"People_over_25_with_No_Schooling\",\n",
    "                                      \"B15003_017E\": \"High_School_Diploma\",\n",
    "                                      \"B15003_018E\": \"GED\",\n",
    "                                      \"B15003_021E\": \"Associates_Degree\",\n",
    "                                      \"B15003_022E\": \"Bachelors_Degree\",\n",
    "                                      \"B15003_023E\": \"Masters_Degree\",\n",
    "                                      \"B15003_024E\": \"Professional_Degree\",\n",
    "                                      \"B15003_025E\": \"Doctoral_Degree\", \n",
    "                                      \"NAME\": \"Name\"})\n",
    "\n",
    "Alledu.head()"
   ]
  },
  {
   "cell_type": "code",
   "execution_count": null,
   "metadata": {},
   "outputs": [],
   "source": [
    "# Column Reordering\n",
    "Allhousing = OHINKYMIPAWVhousing.rename(columns={\"B01003_001E\": \"Population\", \n",
    "                                      \"B23025_005E\": \"Unemployment_Count\", \n",
    "                                      \"B19013_001E\": \"Median_Household_Income\",\n",
    "                                      \"B17001_002E\": \"People_Living_in_Poverty\",\n",
    "                                      \"B25064_001E\": \"Average_Cost_of_Rent_and_Utilities_Combined\",\n",
    "                                      \"B25077_001E\": \"Average_Value_of_an_Owner_Occupied_Home\",\n",
    "                                      \"B25088_002E\": \"Average_Monthly_Housing_Expense_for_a_Homeowner_with_a_Mortgage\",\n",
    "                                      \"NAME\": \"Name\"})\n",
    "\n",
    "Allhousing.head()"
   ]
  },
  {
   "cell_type": "code",
   "execution_count": null,
   "metadata": {},
   "outputs": [],
   "source": [
    "Alledu[\"No_Schooling_Rate\"] = 100 * \\\n",
    "    Alledu[\"People_over_25_with_No_Schooling\"].astype(\n",
    "        int) / Alledu[\"Population\"].astype(int)\n",
    "\n",
    "Alledu[\"High_School_Education_Rate\"] = 100 * \\\n",
    "    Alledu[\"High_School_Diploma\"].astype(\n",
    "        int) / Alledu[\"Population\"].astype(int)\n",
    "\n",
    "Alledu[\"GED_Rate\"] = 100 * \\\n",
    "    Alledu[\"GED\"].astype(\n",
    "        int) / Alledu[\"Population\"].astype(int)\n",
    "\n",
    "Alledu[\"Associates_Degree_Rate\"] = 100 * \\\n",
    "    Alledu[\"Associates_Degree\"].astype(\n",
    "        int) / Alledu[\"Population\"].astype(int)\n",
    "\n",
    "Alledu[\"Bachelors_Degree_Rate\"] = 100 * \\\n",
    "    Alledu[\"Bachelors_Degree\"].astype(\n",
    "        int) / Alledu[\"Population\"].astype(int)\n",
    "\n",
    "Alledu[\"Masters_Degree_Rate\"] = 100 * \\\n",
    "    Alledu[\"Masters_Degree\"].astype(\n",
    "        int) / Alledu[\"Population\"].astype(int)\n",
    "\n",
    "Alledu[\"Professional_Degree_Rate\"] = 100 * \\\n",
    "    Alledu[\"Professional_Degree\"].astype(\n",
    "        int) / Alledu[\"Population\"].astype(int)\n",
    "\n",
    "Alledu[\"Doctoral_Degree Rate\"] = 100 * \\\n",
    "    Alledu[\"Doctoral_Degree\"].astype(\n",
    "        int) / Alledu[\"Population\"].astype(int)\n",
    "\n",
    "Alledu"
   ]
  },
  {
   "cell_type": "code",
   "execution_count": null,
   "metadata": {},
   "outputs": [],
   "source": [
    "Allhousing[\"Unemployment_Rate\"] = 100 * \\\n",
    "    Allhousing[\"Unemployment_Count\"].astype(\n",
    "        int) / Allhousing[\"Population\"].astype(int)\n",
    "\n",
    "Allhousing[\"Poverty_Rate\"] = 100 * \\\n",
    "    Allhousing[\"People_Living_in_Poverty\"].astype(\n",
    "        int) / Allhousing[\"Population\"].astype(int)\n",
    "\n",
    "\n",
    "Allhousing"
   ]
  },
  {
   "cell_type": "code",
   "execution_count": null,
   "metadata": {},
   "outputs": [],
   "source": [
    "Alledu = Alledu.round(4)\n",
    "Alledu.head()"
   ]
  },
  {
   "cell_type": "code",
   "execution_count": null,
   "metadata": {},
   "outputs": [],
   "source": [
    "Allhousing = Allhousing.round(4)\n",
    "Allhousing.head()"
   ]
  },
  {
   "cell_type": "code",
   "execution_count": null,
   "metadata": {},
   "outputs": [],
   "source": []
  },
  {
   "cell_type": "code",
   "execution_count": null,
   "metadata": {},
   "outputs": [],
   "source": [
    "Alledu.to_csv(\"Edu.csv\", index=False, header=True)"
   ]
  },
  {
   "cell_type": "code",
   "execution_count": null,
   "metadata": {},
   "outputs": [],
   "source": [
    "Allhousing.to_csv(\"Housing.csv\", index=False, header=True)"
   ]
  },
  {
   "cell_type": "code",
   "execution_count": null,
   "metadata": {},
   "outputs": [],
   "source": []
  },
  {
   "cell_type": "code",
   "execution_count": null,
   "metadata": {},
   "outputs": [],
   "source": []
  },
  {
   "cell_type": "code",
   "execution_count": null,
   "metadata": {},
   "outputs": [],
   "source": []
  },
  {
   "cell_type": "code",
   "execution_count": null,
   "metadata": {},
   "outputs": [],
   "source": []
  },
  {
   "cell_type": "code",
   "execution_count": null,
   "metadata": {},
   "outputs": [],
   "source": [
    "fbi_json = requests.get(f\"https://api.usa.gov/crime/fbi/sapi/api/data/arrest/states/offense/OH/all/2010/2010?API_KEY=qjxuYoCo1z10Fvy60mTLHOcftyK9sxevJw14QbvI\").json()\n",
    "fbi_json['results'][0]"
   ]
  },
  {
   "cell_type": "code",
   "execution_count": null,
   "metadata": {},
   "outputs": [],
   "source": [
    "fbi_offense = []\n",
    "\n",
    "for key in fbi_json['results'][0]:\n",
    "    print(key)\n",
    "\n",
    "    fbi_offense.append(key)\n",
    "    \n",
    "fbi_offense"
   ]
  },
  {
   "cell_type": "code",
   "execution_count": null,
   "metadata": {},
   "outputs": [],
   "source": [
    "years = [\"2012\", \"2013\", \"2014\", \"2015\", \"2016\", \"2017\"]\n",
    "    \n",
    "# set up lists to hold reponse info\n",
    "off_year = []\n",
    "off_type = []\n",
    "off_ct = []\n",
    "\n",
    "base_url = \"https://api.usa.gov/crime/fbi/sapi/api/data/arrest/states/offense/OH/all/\"\n",
    "year = 0\n",
    "slash = \"/\"\n",
    "post_url = \"?API_KEY=qjxuYoCo1z10Fvy60mTLHOcftyK9sxevJw14QbvI\"\n",
    "\n",
    "# Loop through the list of years and perform a request for data on each\n",
    "for year in years:\n",
    "    response = requests.get(base_url + year + slash + year + post_url).json()['results'][0]\n",
    "    \n",
    "    for offense in fbi_offense:\n",
    "           \n",
    "        off_year.append(response['data_year'])\n",
    "        off_type.append(offense)\n",
    "        off_ct.append(response[offense])"
   ]
  },
  {
   "cell_type": "code",
   "execution_count": null,
   "metadata": {},
   "outputs": [],
   "source": [
    "fbi_dict = {\n",
    "    \"Year\": off_year,\n",
    "    \"Offense_Type\": off_type,\n",
    "    \"Offense_Count\": off_ct\n",
    "}\n",
    "\n",
    "fbi_data = pd.DataFrame(fbi_dict)\n",
    "fbi_data.head()"
   ]
  },
  {
   "cell_type": "code",
   "execution_count": null,
   "metadata": {},
   "outputs": [],
   "source": []
  },
  {
   "cell_type": "code",
   "execution_count": null,
   "metadata": {},
   "outputs": [],
   "source": []
  },
  {
   "cell_type": "code",
   "execution_count": null,
   "metadata": {},
   "outputs": [],
   "source": []
  }
 ],
 "metadata": {
  "kernelspec": {
   "display_name": "Python 3",
   "language": "python",
   "name": "python3"
  },
  "language_info": {
   "codemirror_mode": {
    "name": "ipython",
    "version": 3
   },
   "file_extension": ".py",
   "mimetype": "text/x-python",
   "name": "python",
   "nbconvert_exporter": "python",
   "pygments_lexer": "ipython3",
   "version": "3.7.3"
  }
 },
 "nbformat": 4,
 "nbformat_minor": 2
}
