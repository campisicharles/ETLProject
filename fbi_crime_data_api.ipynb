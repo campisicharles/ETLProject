{
 "cells": [
  {
   "cell_type": "code",
   "execution_count": 67,
   "metadata": {},
   "outputs": [],
   "source": [
    "#\n",
    "# FBI Crime Data API\n",
    "#\n",
    "\n",
    "# Dependencies and Setup\n",
    "import pandas as pd\n",
    "import numpy as np\n",
    "import requests\n",
    "import time\n",
    "import json\n",
    "\n",
    "import matplotlib.pyplot as plt\n",
    "\n",
    "# Import API key\n",
    "from api_keys import api_key"
   ]
  },
  {
   "cell_type": "code",
   "execution_count": 68,
   "metadata": {},
   "outputs": [],
   "source": [
    "# perfrom API call\n",
    "# custom API call url generated at: https://crime-data-explorer.fr.cloud.gov/api\n",
    "# result includes a public key:\n",
    "# https://api.usa.gov/crime/fbi/sapi/api/data/arrest/states/offense/OH/all/2010/2010?API_KEY=iiHnOKfno2Mgkt5AynpvPpUQTEyxE77jo1RU8PIv\n",
    "# looks like....\n",
    "# https://api.usa.gov/crime/fbi/sapi/api/data/arrest/states/offense/OH/all/2010/2010?API_KEY=iiHnOKfno2Mgkt5AynpvPpUQTEyxE77jo1RU8PIv\n",
    "\n",
    "\n"
   ]
  },
  {
   "cell_type": "code",
   "execution_count": 69,
   "metadata": {},
   "outputs": [
    {
     "data": {
      "text/plain": [
       "{'results': [{'aggravated_assault': 4075,\n",
       "   'all_other_offenses': 69074,\n",
       "   'arson': 232,\n",
       "   'burglary': 7022,\n",
       "   'curfew': 1336,\n",
       "   'disorderly': 20622,\n",
       "   'driving': 37463,\n",
       "   'drug_abuse_gt': 32816,\n",
       "   'drug_poss_m': 15893,\n",
       "   'drug_poss_opium': 6643,\n",
       "   'drug_poss_other': 4417,\n",
       "   'drug_poss_subtotal': 28254,\n",
       "   'drug_poss_synthetic': 1300,\n",
       "   'drug_sales_m': 1402,\n",
       "   'drug_sales_opium': 1541,\n",
       "   'drug_sales_other': 663,\n",
       "   'drug_sales_subtotal': 3961,\n",
       "   'drug_sales_synthetic': 355,\n",
       "   'drunkness': 4004,\n",
       "   'embezzlement': 38,\n",
       "   'forgery': 1621,\n",
       "   'fraud': 3040,\n",
       "   'g_all': 13,\n",
       "   'g_b': 0,\n",
       "   'g_n': 0,\n",
       "   'g_t': 58,\n",
       "   'ht_c_s_a': 0,\n",
       "   'ht_i_s': 0,\n",
       "   'larceny': 32988,\n",
       "   'liquor': 12416,\n",
       "   'manslaughter': 5,\n",
       "   'mvt': 960,\n",
       "   'murder': 190,\n",
       "   'offense_family': 4455,\n",
       "   'prostitution': 1737,\n",
       "   'prostitution_a_p_p': 0,\n",
       "   'prostitution_p': 0,\n",
       "   'prostitution_p_p': 0,\n",
       "   'rape': 532,\n",
       "   'robbery': 2839,\n",
       "   'sex_offense': 874,\n",
       "   'simple_assault': 38486,\n",
       "   'stolen_property': 3663,\n",
       "   'suspicion': 82,\n",
       "   'vagrancy': 39,\n",
       "   'vandalism': 4800,\n",
       "   'weapons': 3320,\n",
       "   'csv_header': None,\n",
       "   'data_year': 2010}],\n",
       " 'pagination': {'count': 1, 'page': 0, 'pages': 1, 'per_page': 0}}"
      ]
     },
     "execution_count": 69,
     "metadata": {},
     "output_type": "execute_result"
    }
   ],
   "source": [
    "demo_data = requests.get(f\"https://api.usa.gov/crime/fbi/sapi/api/data/arrest/states/offense/OH/all/2010/2010?API_KEY=qjxuYoCo1z10Fvy60mTLHOcftyK9sxevJw14QbvI\").json()\n",
    "demo_data"
   ]
  },
  {
   "cell_type": "code",
   "execution_count": null,
   "metadata": {},
   "outputs": [],
   "source": []
  },
  {
   "cell_type": "code",
   "execution_count": 70,
   "metadata": {},
   "outputs": [
    {
     "data": {
      "text/html": [
       "<div>\n",
       "<style scoped>\n",
       "    .dataframe tbody tr th:only-of-type {\n",
       "        vertical-align: middle;\n",
       "    }\n",
       "\n",
       "    .dataframe tbody tr th {\n",
       "        vertical-align: top;\n",
       "    }\n",
       "\n",
       "    .dataframe thead th {\n",
       "        text-align: right;\n",
       "    }\n",
       "</style>\n",
       "<table border=\"1\" class=\"dataframe\">\n",
       "  <thead>\n",
       "    <tr style=\"text-align: right;\">\n",
       "      <th></th>\n",
       "      <th>offense_year</th>\n",
       "      <th>offense_type</th>\n",
       "      <th>offense_count</th>\n",
       "    </tr>\n",
       "  </thead>\n",
       "  <tbody>\n",
       "  </tbody>\n",
       "</table>\n",
       "</div>"
      ],
      "text/plain": [
       "Empty DataFrame\n",
       "Columns: [offense_year, offense_type, offense_count]\n",
       "Index: []"
      ]
     },
     "execution_count": 70,
     "metadata": {},
     "output_type": "execute_result"
    }
   ],
   "source": [
    "# Create dataframe to be added to in for loop\n",
    "crime_df = pd.DataFrame()\n",
    "crime_df[\"offense_year\"] = \"\"\n",
    "crime_df[\"offense_type\"] = \"\"\n",
    "crime_df[\"offense_count\"] = \"\"\n",
    "crime_df\n"
   ]
  },
  {
   "cell_type": "code",
   "execution_count": 74,
   "metadata": {},
   "outputs": [
    {
     "name": "stdout",
     "output_type": "stream",
     "text": [
      "Beginning Data Retrieval\n",
      "_ _ _\n",
      "Processing record 0 | 2010\n",
      "Crime not found? Exonerated!! Skipping...\n",
      "Processing record 1 | 2011\n",
      "Crime not found? Exonerated!! Skipping...\n",
      "Processing record 2 | 2012\n",
      "Crime not found? Exonerated!! Skipping...\n",
      "Processing record 3 | 2013\n",
      "Crime not found? Exonerated!! Skipping...\n",
      "Processing record 4 | 2014\n",
      "Crime not found? Exonerated!! Skipping...\n",
      "Processing record 5 | 2015\n",
      "Crime not found? Exonerated!! Skipping...\n",
      "Processing record 6 | 2016\n",
      "Crime not found? Exonerated!! Skipping...\n",
      "Processing record 7 | 2017\n",
      "Crime not found? Exonerated!! Skipping...\n",
      "_ _ _\n",
      "Data Retrieval Complete\n",
      "_ _ _\n"
     ]
    }
   ],
   "source": [
    "my_key = \"?API_KEY=qjxuYoCo1z10Fvy60mTLHOcftyK9sxevJw14QbvI\"\n",
    "base_url = \"https://api.usa.gov/crime/fbi/sapi/api/data/arrest/states/offense/OH/all/\"\n",
    "years = [\"2010\", \"2011\", \"2012\", \"2013\", \"2014\", \"2015\", \"2016\", \"2017\"]\n",
    "offenses = [\"aggravated_assault\", \"all_other_offenses\",\"arson\", \"burglary\", \"curfew\", \"disorderly\",\n",
    "            \"driving\", \"drug_abuse_gt\", \"drug_poss_m\", \"drug_poss_opium\", \"drug_poss_other\",\n",
    "            \"drug_poss_subtotal\", \"drug_poss_synthetic\", \"drug_sales_m\", \"drug_sales_opium\",\n",
    "            \"drug_sales_other\", \"drug_sales_subtotal\", \"drug_sales_synthetic\", \"drunkness\",\n",
    "            \"embezzlement\", \"forgery\", \"fraud\", \"g_all\", \"g_b\", \"g_n\", \"g_t\", \"ht_c_s_a\", \"ht_i_s\", \"larceny\",\n",
    "            \"liquor\", \"manslaughter\", \"mvt\", \"murder\", \"offense_family\", \"prostitution\", \"prostitution_a_p_p\",\n",
    "            \"prostitution_p\", \"prostitution_p_p\", \"rape\", \"robbery\", \"sex_offense\", \"simple_assault\",\n",
    "            \"stolen_property\", \"suspicion\", \"vagrancy\", \"vandalism\", \"weapons\"]\n",
    "\n",
    "\n",
    "# Print out the beginning of the log\n",
    "print(\"Beginning Data Retrieval\")\n",
    "print(\"_ _ _\")\n",
    "\n",
    "# Loop through all of the cities within the cities \n",
    "for x in np.arange(len(years)):\n",
    "\n",
    "    # Print the recording of the current record with the city\n",
    "    print(f\"Processing record {x} | {years[x]}\")\n",
    "    \n",
    "    # start try/except to compensate for failed retrieval\n",
    "    try:\n",
    "        \n",
    "        # Request the current wheather statistics from built URL of the current city in JSON form\n",
    "        year_data_q = requests.get(f\"{base_url}{year[x]}/{year[x]}{my_key}\").json()\n",
    "        \n",
    "        # Place all of the variables into the created dataframe\n",
    "        crime_df.loc[x, \"offense_year\"] = current_data_q[x]\n",
    "        try:\n",
    "            offense_data_q = \n",
    "        crime_df.loc[x, \"offense_type\"] = current_data_q[offenses]\n",
    "        crime_df.loc[x, \"offense_count\"] = current_data_q[\"\"]\n",
    "\n",
    "    \n",
    "    # If previous block did not work display error message\n",
    "    except (KeyError, IndexError):\n",
    "        print(\"Crime not found? Exonerated!! Skipping...\")\n",
    "\n",
    "# Print end of data message\n",
    "print(\"_ _ _\")\n",
    "print(\"Data Retrieval Complete\")\n",
    "print(\"_ _ _\")\n",
    "\n",
    "# Drop bad data\n",
    "clean_crime_data = crime_df.dropna()"
   ]
  },
  {
   "cell_type": "code",
   "execution_count": null,
   "metadata": {},
   "outputs": [],
   "source": []
  },
  {
   "cell_type": "code",
   "execution_count": null,
   "metadata": {},
   "outputs": [],
   "source": []
  },
  {
   "cell_type": "code",
   "execution_count": null,
   "metadata": {},
   "outputs": [],
   "source": []
  },
  {
   "cell_type": "code",
   "execution_count": 29,
   "metadata": {},
   "outputs": [],
   "source": []
  },
  {
   "cell_type": "code",
   "execution_count": null,
   "metadata": {},
   "outputs": [],
   "source": []
  },
  {
   "cell_type": "code",
   "execution_count": null,
   "metadata": {},
   "outputs": [],
   "source": []
  }
 ],
 "metadata": {
  "kernelspec": {
   "display_name": "Python 3",
   "language": "python",
   "name": "python3"
  },
  "language_info": {
   "codemirror_mode": {
    "name": "ipython",
    "version": 3
   },
   "file_extension": ".py",
   "mimetype": "text/x-python",
   "name": "python",
   "nbconvert_exporter": "python",
   "pygments_lexer": "ipython3",
   "version": "3.7.3"
  }
 },
 "nbformat": 4,
 "nbformat_minor": 2
}
