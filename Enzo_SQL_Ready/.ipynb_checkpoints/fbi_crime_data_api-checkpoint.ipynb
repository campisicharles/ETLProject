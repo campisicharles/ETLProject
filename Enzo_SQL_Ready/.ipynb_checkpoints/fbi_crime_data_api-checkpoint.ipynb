{
 "cells": [
  {
   "cell_type": "code",
   "execution_count": 1,
   "metadata": {},
   "outputs": [],
   "source": [
    "#\n",
    "# FBI Crime Data API\n",
    "#\n",
    "\n",
    "# Dependencies and Setup\n",
    "import pandas as pd\n",
    "import numpy as np\n",
    "import requests\n",
    "import time\n",
    "import json\n",
    "\n",
    "%matplotlib inline\n",
    "import matplotlib.pyplot as plt\n",
    "\n",
    "import os\n",
    "import datetime\n",
    "\n",
    "# Import API key\n",
    "from api_keys import api_key"
   ]
  },
  {
   "cell_type": "code",
   "execution_count": 2,
   "metadata": {
    "scrolled": true
   },
   "outputs": [
    {
     "data": {
      "text/plain": [
       "{'results': [{'aggravated_assault': 4075,\n",
       "   'all_other_offenses': 69074,\n",
       "   'arson': 232,\n",
       "   'burglary': 7022,\n",
       "   'curfew': 1336,\n",
       "   'disorderly': 20622,\n",
       "   'driving': 37463,\n",
       "   'drug_abuse_gt': 32816,\n",
       "   'drug_poss_m': 15893,\n",
       "   'drug_poss_opium': 6643,\n",
       "   'drug_poss_other': 4417,\n",
       "   'drug_poss_subtotal': 28254,\n",
       "   'drug_poss_synthetic': 1300,\n",
       "   'drug_sales_m': 1402,\n",
       "   'drug_sales_opium': 1541,\n",
       "   'drug_sales_other': 663,\n",
       "   'drug_sales_subtotal': 3961,\n",
       "   'drug_sales_synthetic': 355,\n",
       "   'drunkness': 4004,\n",
       "   'embezzlement': 38,\n",
       "   'forgery': 1621,\n",
       "   'fraud': 3040,\n",
       "   'g_all': 13,\n",
       "   'g_b': 0,\n",
       "   'g_n': 0,\n",
       "   'g_t': 58,\n",
       "   'ht_c_s_a': 0,\n",
       "   'ht_i_s': 0,\n",
       "   'larceny': 32988,\n",
       "   'liquor': 12416,\n",
       "   'manslaughter': 5,\n",
       "   'mvt': 960,\n",
       "   'murder': 190,\n",
       "   'offense_family': 4455,\n",
       "   'prostitution': 1737,\n",
       "   'prostitution_a_p_p': 0,\n",
       "   'prostitution_p': 0,\n",
       "   'prostitution_p_p': 0,\n",
       "   'rape': 532,\n",
       "   'robbery': 2839,\n",
       "   'sex_offense': 874,\n",
       "   'simple_assault': 38486,\n",
       "   'stolen_property': 3663,\n",
       "   'suspicion': 82,\n",
       "   'vagrancy': 39,\n",
       "   'vandalism': 4800,\n",
       "   'weapons': 3320,\n",
       "   'csv_header': None,\n",
       "   'data_year': 2010}],\n",
       " 'pagination': {'count': 1, 'page': 0, 'pages': 1, 'per_page': 0}}"
      ]
     },
     "execution_count": 2,
     "metadata": {},
     "output_type": "execute_result"
    }
   ],
   "source": [
    "# api auto-generated at https://crime-data-explorer.fr.cloud.gov/api\n",
    "\n",
    "# fbi_json = requests.get(f\"https://api.usa.gov/crime/fbi/sapi/api/data/arrest/states/offense/OH/all/2010/2010?API_KEY=qjxuYoCo1z10Fvy60mTLHOcftyK9sxevJw14QbvI\").json()\n",
    "# fbi_json['results'][0]\n",
    "\n",
    "fbi_json = requests.get(f\"https://api.usa.gov/crime/fbi/sapi/api/data/arrest/states/offense/OH/all/2010/2010?API_KEY=qjxuYoCo1z10Fvy60mTLHOcftyK9sxevJw14QbvI\").json()\n",
    "fbi_json\n",
    "\n"
   ]
  },
  {
   "cell_type": "code",
   "execution_count": 3,
   "metadata": {
    "scrolled": true
   },
   "outputs": [
    {
     "name": "stdout",
     "output_type": "stream",
     "text": [
      "aggravated_assault\n",
      "all_other_offenses\n",
      "arson\n",
      "burglary\n",
      "curfew\n",
      "disorderly\n",
      "driving\n",
      "drug_abuse_gt\n",
      "drug_poss_m\n",
      "drug_poss_opium\n",
      "drug_poss_other\n",
      "drug_poss_subtotal\n",
      "drug_poss_synthetic\n",
      "drug_sales_m\n",
      "drug_sales_opium\n",
      "drug_sales_other\n",
      "drug_sales_subtotal\n",
      "drug_sales_synthetic\n",
      "drunkness\n",
      "embezzlement\n",
      "forgery\n",
      "fraud\n",
      "g_all\n",
      "g_b\n",
      "g_n\n",
      "g_t\n",
      "ht_c_s_a\n",
      "ht_i_s\n",
      "larceny\n",
      "liquor\n",
      "manslaughter\n",
      "mvt\n",
      "murder\n",
      "offense_family\n",
      "prostitution\n",
      "prostitution_a_p_p\n",
      "prostitution_p\n",
      "prostitution_p_p\n",
      "rape\n",
      "robbery\n",
      "sex_offense\n",
      "simple_assault\n",
      "stolen_property\n",
      "suspicion\n",
      "vagrancy\n",
      "vandalism\n",
      "weapons\n",
      "csv_header\n",
      "data_year\n"
     ]
    },
    {
     "data": {
      "text/plain": [
       "['aggravated_assault',\n",
       " 'all_other_offenses',\n",
       " 'arson',\n",
       " 'burglary',\n",
       " 'curfew',\n",
       " 'disorderly',\n",
       " 'driving',\n",
       " 'drug_abuse_gt',\n",
       " 'drug_poss_m',\n",
       " 'drug_poss_opium',\n",
       " 'drug_poss_other',\n",
       " 'drug_poss_subtotal',\n",
       " 'drug_poss_synthetic',\n",
       " 'drug_sales_m',\n",
       " 'drug_sales_opium',\n",
       " 'drug_sales_other',\n",
       " 'drug_sales_subtotal',\n",
       " 'drug_sales_synthetic',\n",
       " 'drunkness',\n",
       " 'embezzlement',\n",
       " 'forgery',\n",
       " 'fraud',\n",
       " 'g_all',\n",
       " 'g_b',\n",
       " 'g_n',\n",
       " 'g_t',\n",
       " 'ht_c_s_a',\n",
       " 'ht_i_s',\n",
       " 'larceny',\n",
       " 'liquor',\n",
       " 'manslaughter',\n",
       " 'mvt',\n",
       " 'murder',\n",
       " 'offense_family',\n",
       " 'prostitution',\n",
       " 'prostitution_a_p_p',\n",
       " 'prostitution_p',\n",
       " 'prostitution_p_p',\n",
       " 'rape',\n",
       " 'robbery',\n",
       " 'sex_offense',\n",
       " 'simple_assault',\n",
       " 'stolen_property',\n",
       " 'suspicion',\n",
       " 'vagrancy',\n",
       " 'vandalism',\n",
       " 'weapons',\n",
       " 'csv_header',\n",
       " 'data_year']"
      ]
     },
     "execution_count": 3,
     "metadata": {},
     "output_type": "execute_result"
    }
   ],
   "source": [
    "# fbi_json = requests.get(f\"https://api.usa.gov/crime/fbi/sapi/api/data/arrest/states/offense/OH/all/2010/2010?API_KEY=qjxuYoCo1z10Fvy60mTLHOcftyK9sxevJw14QbvI\").json()\n",
    "# fbi_json['results'][0]\n",
    "\n",
    "fbi_offense = []\n",
    "\n",
    "for key in fbi_json['results'][0]:\n",
    "    print(key)\n",
    "\n",
    "    fbi_offense.append(key)\n",
    "    \n",
    "fbi_offense\n",
    "    \n"
   ]
  },
  {
   "cell_type": "code",
   "execution_count": 4,
   "metadata": {},
   "outputs": [
    {
     "data": {
      "text/plain": [
       "49"
      ]
     },
     "execution_count": 4,
     "metadata": {},
     "output_type": "execute_result"
    }
   ],
   "source": [
    " len(fbi_offense)"
   ]
  },
  {
   "cell_type": "code",
   "execution_count": 5,
   "metadata": {},
   "outputs": [],
   "source": [
    "# url should look like:\n",
    "# https://api.usa.gov/crime/fbi/sapi/api/data/arrest/states/offense/OH/all/2010/2010?API_KEY=qjxuYoCo1z10Fvy60mTLHOcftyK9sxevJw14QbvI\").json()\n",
    "\n",
    "years = [\"2010\", \"2011\", \"2012\", \"2013\", \"2014\", \"2015\", \"2016\", \"2017\"]\n",
    "states = [\"OH\", \"PA\", \"WV\", \"KY\", \"IN\", \"MI\"]\n",
    "    \n",
    "# set up lists to hold reponse info\n",
    "state_value = []\n",
    "off_year = []\n",
    "off_type = []\n",
    "off_ct = []\n",
    "\n",
    "base_url = \"https://api.usa.gov/crime/fbi/sapi/api/data/arrest/states/offense/\"\n",
    "mid_url = \"/all/\"\n",
    "state = \"\"\n",
    "year = 0\n",
    "slash = \"/\"\n",
    "post_url = \"?API_KEY=qjxuYoCo1z10Fvy60mTLHOcftyK9sxevJw14QbvI\"\n",
    "\n",
    "# Loop through the list of years and perform a request for data on each\n",
    "for state in states:\n",
    "    for year in years:\n",
    "        response = requests.get(base_url + state + mid_url + year + slash + year + post_url).json()['results'][0]\n",
    "        for offense in fbi_offense:\n",
    "            state_value.append(state)\n",
    "            off_year.append(response['data_year'])\n",
    "            off_type.append(offense)\n",
    "            off_ct.append(response[offense])    "
   ]
  },
  {
   "cell_type": "code",
   "execution_count": 6,
   "metadata": {},
   "outputs": [
    {
     "data": {
      "text/plain": [
       "2352"
      ]
     },
     "execution_count": 6,
     "metadata": {},
     "output_type": "execute_result"
    }
   ],
   "source": [
    "len(off_year)"
   ]
  },
  {
   "cell_type": "code",
   "execution_count": 7,
   "metadata": {},
   "outputs": [
    {
     "data": {
      "text/plain": [
       "2352"
      ]
     },
     "execution_count": 7,
     "metadata": {},
     "output_type": "execute_result"
    }
   ],
   "source": [
    "len(off_type)"
   ]
  },
  {
   "cell_type": "code",
   "execution_count": 8,
   "metadata": {},
   "outputs": [
    {
     "data": {
      "text/plain": [
       "2352"
      ]
     },
     "execution_count": 8,
     "metadata": {},
     "output_type": "execute_result"
    }
   ],
   "source": [
    "len(off_ct)"
   ]
  },
  {
   "cell_type": "code",
   "execution_count": null,
   "metadata": {},
   "outputs": [],
   "source": []
  },
  {
   "cell_type": "code",
   "execution_count": 9,
   "metadata": {
    "scrolled": false
   },
   "outputs": [
    {
     "data": {
      "text/html": [
       "<div>\n",
       "<style scoped>\n",
       "    .dataframe tbody tr th:only-of-type {\n",
       "        vertical-align: middle;\n",
       "    }\n",
       "\n",
       "    .dataframe tbody tr th {\n",
       "        vertical-align: top;\n",
       "    }\n",
       "\n",
       "    .dataframe thead th {\n",
       "        text-align: right;\n",
       "    }\n",
       "</style>\n",
       "<table border=\"1\" class=\"dataframe\">\n",
       "  <thead>\n",
       "    <tr style=\"text-align: right;\">\n",
       "      <th></th>\n",
       "      <th>State</th>\n",
       "      <th>Offense_Year</th>\n",
       "      <th>Offense_Type</th>\n",
       "      <th>Offense_Count</th>\n",
       "    </tr>\n",
       "  </thead>\n",
       "  <tbody>\n",
       "    <tr>\n",
       "      <th>0</th>\n",
       "      <td>OH</td>\n",
       "      <td>2010</td>\n",
       "      <td>aggravated_assault</td>\n",
       "      <td>4075.0</td>\n",
       "    </tr>\n",
       "    <tr>\n",
       "      <th>1</th>\n",
       "      <td>OH</td>\n",
       "      <td>2010</td>\n",
       "      <td>all_other_offenses</td>\n",
       "      <td>69074.0</td>\n",
       "    </tr>\n",
       "    <tr>\n",
       "      <th>2</th>\n",
       "      <td>OH</td>\n",
       "      <td>2010</td>\n",
       "      <td>arson</td>\n",
       "      <td>232.0</td>\n",
       "    </tr>\n",
       "    <tr>\n",
       "      <th>3</th>\n",
       "      <td>OH</td>\n",
       "      <td>2010</td>\n",
       "      <td>burglary</td>\n",
       "      <td>7022.0</td>\n",
       "    </tr>\n",
       "    <tr>\n",
       "      <th>4</th>\n",
       "      <td>OH</td>\n",
       "      <td>2010</td>\n",
       "      <td>curfew</td>\n",
       "      <td>1336.0</td>\n",
       "    </tr>\n",
       "  </tbody>\n",
       "</table>\n",
       "</div>"
      ],
      "text/plain": [
       "  State  Offense_Year        Offense_Type  Offense_Count\n",
       "0    OH          2010  aggravated_assault         4075.0\n",
       "1    OH          2010  all_other_offenses        69074.0\n",
       "2    OH          2010               arson          232.0\n",
       "3    OH          2010            burglary         7022.0\n",
       "4    OH          2010              curfew         1336.0"
      ]
     },
     "execution_count": 9,
     "metadata": {},
     "output_type": "execute_result"
    }
   ],
   "source": [
    "# create a data frame from year, offense, and count\n",
    "fbi_dict = {\n",
    "    \"State\": state_value,\n",
    "    \"Offense_Year\": off_year,\n",
    "    \"Offense_Type\": off_type,\n",
    "    \"Offense_Count\": off_ct\n",
    "}\n",
    "\n",
    "fbi_data = pd.DataFrame(fbi_dict)\n",
    "fbi_data.head()"
   ]
  },
  {
   "cell_type": "code",
   "execution_count": 10,
   "metadata": {},
   "outputs": [
    {
     "data": {
      "text/plain": [
       "State             0\n",
       "Offense_Year      0\n",
       "Offense_Type      0\n",
       "Offense_Count    48\n",
       "dtype: int64"
      ]
     },
     "execution_count": 10,
     "metadata": {},
     "output_type": "execute_result"
    }
   ],
   "source": [
    "fbi_data.isna().sum()"
   ]
  },
  {
   "cell_type": "code",
   "execution_count": 11,
   "metadata": {},
   "outputs": [
    {
     "data": {
      "text/plain": [
       "State            2304\n",
       "Offense_Year     2304\n",
       "Offense_Type     2304\n",
       "Offense_Count    2304\n",
       "dtype: int64"
      ]
     },
     "execution_count": 11,
     "metadata": {},
     "output_type": "execute_result"
    }
   ],
   "source": [
    "fbi_df = fbi_data.dropna()\n",
    "fbi_df.count()"
   ]
  },
  {
   "cell_type": "code",
   "execution_count": 12,
   "metadata": {},
   "outputs": [
    {
     "data": {
      "text/plain": [
       "True"
      ]
     },
     "execution_count": 12,
     "metadata": {},
     "output_type": "execute_result"
    }
   ],
   "source": [
    "# check to see if there are any values that aren't whole numbers (decimals)\n",
    "all(x.is_integer() for x in fbi_df.Offense_Count)"
   ]
  },
  {
   "cell_type": "code",
   "execution_count": 14,
   "metadata": {},
   "outputs": [],
   "source": [
    "# Export file as a CSV, with the Pandas index and with the header....\n",
    "fbi_df.to_csv(\"fbi_data_2010-2017.csv\", index=True, header=True)"
   ]
  },
  {
   "cell_type": "code",
   "execution_count": 15,
   "metadata": {},
   "outputs": [
    {
     "data": {
      "text/html": [
       "<div>\n",
       "<style scoped>\n",
       "    .dataframe tbody tr th:only-of-type {\n",
       "        vertical-align: middle;\n",
       "    }\n",
       "\n",
       "    .dataframe tbody tr th {\n",
       "        vertical-align: top;\n",
       "    }\n",
       "\n",
       "    .dataframe thead th {\n",
       "        text-align: right;\n",
       "    }\n",
       "</style>\n",
       "<table border=\"1\" class=\"dataframe\">\n",
       "  <thead>\n",
       "    <tr style=\"text-align: right;\">\n",
       "      <th></th>\n",
       "      <th>State</th>\n",
       "      <th>Offense_Year</th>\n",
       "      <th>Offense_Type</th>\n",
       "      <th>Offense_Count</th>\n",
       "    </tr>\n",
       "  </thead>\n",
       "  <tbody>\n",
       "    <tr>\n",
       "      <th>0</th>\n",
       "      <td>OH</td>\n",
       "      <td>2010</td>\n",
       "      <td>aggravated_assault</td>\n",
       "      <td>4075.0</td>\n",
       "    </tr>\n",
       "    <tr>\n",
       "      <th>1</th>\n",
       "      <td>OH</td>\n",
       "      <td>2010</td>\n",
       "      <td>all_other_offenses</td>\n",
       "      <td>69074.0</td>\n",
       "    </tr>\n",
       "    <tr>\n",
       "      <th>2</th>\n",
       "      <td>OH</td>\n",
       "      <td>2010</td>\n",
       "      <td>arson</td>\n",
       "      <td>232.0</td>\n",
       "    </tr>\n",
       "    <tr>\n",
       "      <th>3</th>\n",
       "      <td>OH</td>\n",
       "      <td>2010</td>\n",
       "      <td>burglary</td>\n",
       "      <td>7022.0</td>\n",
       "    </tr>\n",
       "    <tr>\n",
       "      <th>4</th>\n",
       "      <td>OH</td>\n",
       "      <td>2010</td>\n",
       "      <td>curfew</td>\n",
       "      <td>1336.0</td>\n",
       "    </tr>\n",
       "  </tbody>\n",
       "</table>\n",
       "</div>"
      ],
      "text/plain": [
       "  State  Offense_Year        Offense_Type  Offense_Count\n",
       "0    OH          2010  aggravated_assault         4075.0\n",
       "1    OH          2010  all_other_offenses        69074.0\n",
       "2    OH          2010               arson          232.0\n",
       "3    OH          2010            burglary         7022.0\n",
       "4    OH          2010              curfew         1336.0"
      ]
     },
     "execution_count": 15,
     "metadata": {},
     "output_type": "execute_result"
    }
   ],
   "source": [
    "fbi_df.head()"
   ]
  },
  {
   "cell_type": "code",
   "execution_count": 16,
   "metadata": {},
   "outputs": [
    {
     "name": "stdout",
     "output_type": "stream",
     "text": [
      "drug_sales_synthetic\n"
     ]
    }
   ],
   "source": [
    "# find the cell value within a column with the longest string of text\n",
    "\n",
    "field_length = fbi_df.Offense_Type.astype(str).map(len)\n",
    "print(fbi_df.loc[field_length.idxmax(), 'Offense_Type'])"
   ]
  },
  {
   "cell_type": "code",
   "execution_count": 17,
   "metadata": {},
   "outputs": [
    {
     "data": {
      "text/plain": [
       "array([ 2,  4, 20,  8])"
      ]
     },
     "execution_count": 17,
     "metadata": {},
     "output_type": "execute_result"
    }
   ],
   "source": [
    "# return the max length of characters in each column\n",
    "\n",
    "measurer = np.vectorize(len)\n",
    "\n",
    "res1 = measurer(fbi_df.values.astype(str)).max(axis=0)\n",
    "res1"
   ]
  },
  {
   "cell_type": "code",
   "execution_count": null,
   "metadata": {},
   "outputs": [],
   "source": []
  },
  {
   "cell_type": "code",
   "execution_count": null,
   "metadata": {},
   "outputs": [],
   "source": []
  }
 ],
 "metadata": {
  "kernelspec": {
   "display_name": "Python 3",
   "language": "python",
   "name": "python3"
  },
  "language_info": {
   "codemirror_mode": {
    "name": "ipython",
    "version": 3
   },
   "file_extension": ".py",
   "mimetype": "text/x-python",
   "name": "python",
   "nbconvert_exporter": "python",
   "pygments_lexer": "ipython3",
   "version": "3.7.3"
  }
 },
 "nbformat": 4,
 "nbformat_minor": 2
}
